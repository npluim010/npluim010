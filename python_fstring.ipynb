{
  "cells": [
    {
      "cell_type": "markdown",
      "metadata": {
        "id": "view-in-github",
        "colab_type": "text"
      },
      "source": [
        "<a href=\"https://colab.research.google.com/github/npluim010/npluim010/blob/main/python_fstring.ipynb\" target=\"_parent\"><img src=\"https://colab.research.google.com/assets/colab-badge.svg\" alt=\"Open In Colab\"/></a>"
      ]
    },
    {
      "cell_type": "markdown",
      "source": [
        "# debugging"
      ],
      "metadata": {
        "tags": [],
        "cell_id": "dd3974ecd2844464a2d400cbf5589e7d",
        "deepnote_cell_height": 82,
        "deepnote_cell_type": "markdown",
        "id": "AzqbW7eAqGpU"
      }
    },
    {
      "cell_type": "code",
      "source": [
        "x = 10\n",
        "y = 20\n",
        "\n",
        "print(f\"x = {x}, y = {y}\") \n",
        "print(f\"{x = }, {y = }\") \n",
        "\n",
        "# math operations\n",
        "print(f\"{x * y = }\")"
      ],
      "metadata": {
        "cell_id": "c7293dc526fe48629fa3ac7a3a553866",
        "allow_embed": "code_output",
        "source_hash": "f6c202f",
        "execution_start": 1662873316481,
        "execution_millis": 2,
        "deepnote_cell_height": 272.078125,
        "deepnote_to_be_reexecuted": false,
        "deepnote_cell_type": "code",
        "id": "qx3OeGYwqGpb",
        "outputId": "4064bccc-fd72-4ede-98be-2cd19138b0bd"
      },
      "outputs": [
        {
          "name": "stdout",
          "text": "x = 10, y = 20\nx = 10, y = 20\nx * y = 200\n",
          "output_type": "stream"
        }
      ],
      "execution_count": null
    },
    {
      "cell_type": "markdown",
      "source": [
        "# formatting numbers"
      ],
      "metadata": {
        "cell_id": "926c90dfe41a4f7bbc98a3d38dd7e65f",
        "deepnote_cell_height": 82,
        "deepnote_cell_type": "markdown",
        "id": "2dV9p4Z4qGpe"
      }
    },
    {
      "cell_type": "code",
      "source": [
        "number = 420\n",
        "\n",
        "# decimal places\n",
        "print(f\"number: {number:.2f}\")\n",
        "\n",
        "# hex conversion\n",
        "print(f\"hex: {number:#0x}\")\n",
        "\n",
        "# binary conversion\n",
        "print(f\"binary: {number:b}\")\n",
        "\n",
        "# octal conversion\n",
        "print(f\"octal: {number:o}\")\n",
        "\n",
        "# scientific notation\n",
        "print(f\"scientific: {number:e}\") \n",
        "\n",
        "# total number of characters\n",
        "print(f\"Number: {number:09}\") \n"
      ],
      "metadata": {
        "cell_id": "2f4a3acdf11f484cb2b32a503f66bb9e",
        "allow_embed": true,
        "source_hash": "644e7548",
        "execution_start": 1662873397251,
        "execution_millis": 9,
        "deepnote_cell_height": 547.171875,
        "deepnote_to_be_reexecuted": false,
        "deepnote_cell_type": "code",
        "id": "XTCt9Cn4qGpe",
        "outputId": "c9689f6f-c5e2-4f37-f03d-7fbda4e1e50c"
      },
      "outputs": [
        {
          "name": "stdout",
          "text": "number: 420.00\nhex: 0x1a4\nbinary: 110100100\noctal: 644\nscientific: 4.200000e+02\nNumber: 000000420\n",
          "output_type": "stream"
        }
      ],
      "execution_count": null
    },
    {
      "cell_type": "code",
      "source": [
        "apple_marketcap = 2.626 * 10e12\n",
        "\n",
        "print(f\"{apple_marketcap = :,}\") # comma separator\n",
        "\n",
        "percentage = 10.394394\n",
        "\n",
        "print(f\"{percentage = :.2%}\") # percentage"
      ],
      "metadata": {
        "tags": [],
        "cell_id": "3178851954dc490691171b428092a696",
        "allow_embed": true,
        "source_hash": "798bad1c",
        "execution_start": 1663047778280,
        "execution_millis": 903,
        "deepnote_cell_height": 234.390625,
        "deepnote_to_be_reexecuted": false,
        "deepnote_cell_type": "code",
        "id": "YW7gD7tLqGpf",
        "outputId": "5d97174a-6ef3-45be-b493-8cc919e82b20"
      },
      "outputs": [
        {
          "name": "stdout",
          "text": "apple_marketcap = 26,260,000,000,000.0\npercentage = 1039.44%\n",
          "output_type": "stream"
        }
      ],
      "execution_count": null
    },
    {
      "cell_type": "markdown",
      "source": [
        "# repr"
      ],
      "metadata": {
        "tags": [],
        "cell_id": "4e7e7c27642249b7b2fe5762b580cccf",
        "deepnote_cell_height": 82,
        "deepnote_cell_type": "markdown",
        "id": "acuxwxmJqGpg"
      }
    },
    {
      "cell_type": "code",
      "source": [
        "from dataclasses import dataclass\n",
        "\n",
        "@dataclass\n",
        "class Person:\n",
        "    name : str\n",
        "    age : int\n",
        "\n",
        "    def __str__(self) -> str:\n",
        "        return f\"{self.name} is {self.age} years old\"\n",
        "\n",
        "Elon = Person(\"Elon Musk\", 51)\n",
        "print(f\"{Elon}\") # str\n",
        "print(f\"{Elon!r}\") # repr"
      ],
      "metadata": {
        "tags": [],
        "cell_id": "3d0405913d4642f18bcb405a5e432c32",
        "allow_embed": true,
        "source_hash": "adc6422c",
        "execution_start": 1663136580283,
        "execution_millis": 5,
        "deepnote_cell_height": 342.390625,
        "deepnote_to_be_reexecuted": false,
        "deepnote_cell_type": "code",
        "id": "Nf9ohdCxqGpg",
        "outputId": "9cfdfe3d-1778-41eb-a347-00f1b54ef163"
      },
      "outputs": [
        {
          "name": "stdout",
          "text": "Elon Musk is 51 years old\nPerson(name='Elon Musk', age=51)\n",
          "output_type": "stream"
        }
      ],
      "execution_count": null
    },
    {
      "cell_type": "markdown",
      "source": [
        "# alignment"
      ],
      "metadata": {
        "tags": [],
        "cell_id": "e1fd43dd4a224d37a0d8757a28fee0f6",
        "deepnote_cell_height": 82,
        "deepnote_cell_type": "markdown",
        "id": "0CV5gAqKqGph"
      }
    },
    {
      "cell_type": "code",
      "source": [
        "number = 4\n",
        "print(f\"number is {number:4}\") # width of 10\n",
        "\n",
        "# numbers\n",
        "for number in range(1, 5):\n",
        "    print(f\"the number is {number:{number}}\")\n",
        "\n",
        "left = \"left text\"\n",
        "center = \"center text!\"\n",
        "right = \"right text\"\n",
        "\n",
        "print(f\"{left:>20}\") # left align\n",
        "print(f\"{center:^20}\") # center align\n",
        "print(f\"{right:<20}\") # right align\n",
        "\n",
        "print(f\"{left : <20}{center : ^20}{right : >20}\")"
      ],
      "metadata": {
        "tags": [],
        "cell_id": "7af23fc2436f43c281c7153a5743388e",
        "allow_embed": true,
        "source_hash": "54598817",
        "execution_start": 1663180037555,
        "execution_millis": 900,
        "deepnote_cell_height": 554,
        "deepnote_to_be_reexecuted": false,
        "deepnote_cell_type": "code",
        "id": "1VP_jP9eqGph",
        "outputId": "d421b69a-e82a-46f7-a364-efe7049cd386"
      },
      "outputs": [
        {
          "name": "stdout",
          "text": "number is    4\nthe number is 1\nthe number is  2\nthe number is   3\nthe number is    4\n           left text\n   center text!    \nright text          \nleft text               center text!              right text\n",
          "output_type": "stream"
        }
      ],
      "execution_count": null
    },
    {
      "cell_type": "markdown",
      "source": [
        "# date and time formatting\n"
      ],
      "metadata": {
        "tags": [],
        "cell_id": "f4d47c016b32400eb640e0f6ba5da2a8",
        "deepnote_cell_height": 82,
        "deepnote_cell_type": "markdown",
        "id": "pCjLF5EdqGpi"
      }
    },
    {
      "cell_type": "code",
      "source": [
        "import datetime\n",
        "\n",
        "today = datetime.datetime.utcnow()\n",
        "print(f\"datetime : {today}\\n\")\n",
        "\n",
        "print(f\"date time: {today:%m/%d/%Y %H:%M:%S}\")\n",
        "print(f\"date: {today:%m/%d/%Y}\")\n",
        "print(f\"time: {today:%H:%M:%S.%f}\") \n",
        "print(f\"time: {today:%H:%M:%S %p}\") \n",
        "print(f\"time: {today:%H:%M}\")"
      ],
      "metadata": {
        "cell_id": "f4da8ea9ba1c45449b0f521c5739b417",
        "allow_embed": true,
        "source_hash": "b613f2c",
        "execution_start": 1663047857591,
        "execution_millis": 2,
        "deepnote_cell_height": 386.859375,
        "deepnote_to_be_reexecuted": false,
        "deepnote_cell_type": "code",
        "id": "t_yAPLOSqGpi",
        "outputId": "fd6e6377-6546-4d83-c8ee-ac7dedbbc5d1"
      },
      "outputs": [
        {
          "name": "stdout",
          "text": "datetime : 2022-09-13 05:44:17.546036\n\ndate time: 09/13/2022 05:44:17\ndate: 09/13/2022\ntime: 05:44:17.546036\ntime: 05:44:17 AM\ntime: 05:44\n",
          "output_type": "stream"
        }
      ],
      "execution_count": null
    },
    {
      "cell_type": "code",
      "source": [
        "# Locale’s appropriate date and time representation\n",
        "print(f\"locale appropriate: {today:%c}\")\n",
        "\n",
        "# weekday\n",
        "print(f\"weekday: {today:%A}\")\n",
        "\n",
        "# day of the year\n",
        "print(f\"day of year: {today:%j}\")\n",
        "\n",
        "# how far are we into the year?\n",
        "day_of_year = f\"{today:%j}\"\n",
        "print(f\"progress % year: {int(day_of_year)/365 * 100:.2f}%\")"
      ],
      "metadata": {
        "tags": [],
        "cell_id": "435d8777079f45f9a7bf6400347e8353",
        "allow_embed": "code_output",
        "source_hash": "b08de070",
        "execution_start": 1663047858088,
        "execution_millis": 6,
        "deepnote_cell_height": 363.78125,
        "deepnote_to_be_reexecuted": false,
        "deepnote_cell_type": "code",
        "id": "J27DV1m9qGpj",
        "outputId": "c96d6afb-364b-472d-8981-f170cb08fd94"
      },
      "outputs": [
        {
          "name": "stdout",
          "text": "locale appropriate: Tue Sep 13 05:44:17 2022\nweekday: Tuesday\nday of year: 256\nprogress % year: 70.14%\n",
          "output_type": "stream"
        }
      ],
      "execution_count": null
    },
    {
      "cell_type": "markdown",
      "source": [
        "# multi-line fstring"
      ],
      "metadata": {
        "tags": [],
        "cell_id": "02581815380c4ee2bfcc7b8541f5232d",
        "deepnote_cell_height": 82,
        "deepnote_cell_type": "markdown",
        "id": "jYzI4o1_qGpj"
      }
    },
    {
      "cell_type": "code",
      "source": [
        "company_name = \"Tesla\"\n",
        "employee_count = 100000\n",
        "mission = \"To accelerate the world's transition to sustainable energy\"\n",
        "\n",
        "print(f\"\"\"\n",
        "Company: {company_name}\n",
        "# of employees: {employee_count:,}\n",
        "Mission: {mission}\n",
        "\"\"\")"
      ],
      "metadata": {
        "cell_id": "3cc1ee16f6a44fc6b636dca1740f72b4",
        "allow_embed": "code_output",
        "source_hash": "de51a51e",
        "execution_start": 1662919290823,
        "execution_millis": 89,
        "deepnote_cell_height": 329.46875,
        "deepnote_to_be_reexecuted": false,
        "deepnote_cell_type": "code",
        "id": "HBaVUIufqGpj",
        "outputId": "a9fdb5ec-ea26-435b-a2f9-533af0d780f7"
      },
      "outputs": [
        {
          "name": "stdout",
          "text": "\nCompany: Tesla\n# of employees: 100,000\nMission: To accelerate the world's transition to sustainable energy\n\n",
          "output_type": "stream"
        }
      ],
      "execution_count": null
    },
    {
      "cell_type": "markdown",
      "source": [
        "<a style='text-decoration:none;line-height:16px;display:flex;color:#5B5B62;padding:10px;justify-content:end;' href='https://deepnote.com?utm_source=created-in-deepnote-cell&projectId=a605a3e6-1564-47b2-94e7-842290ba7692' target=\"_blank\">\n",
        "<img alt='Created in deepnote.com' style='display:inline;max-height:16px;margin:0px;margin-right:7.5px;' src='data:image/svg+xml;base64,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' > </img>\n",
        "Created in <span style='font-weight:600;margin-left:4px;'>Deepnote</span></a>"
      ],
      "metadata": {
        "tags": [],
        "created_in_deepnote_cell": true,
        "deepnote_cell_type": "markdown",
        "id": "Zh1rwswZqGpk"
      }
    }
  ],
  "nbformat": 4,
  "nbformat_minor": 0,
  "metadata": {
    "vscode": {
      "interpreter": {
        "hash": "50587d438b9934cf2712ee500622f7def3550698a6c70c07f7d3c00dd27cb653"
      }
    },
    "deepnote": {},
    "kernelspec": {
      "name": "python3",
      "language": "python",
      "display_name": "Python 3.10.0 64-bit ('3.10.0')"
    },
    "language_info": {
      "name": "python",
      "version": "3.10.0",
      "mimetype": "text/x-python",
      "file_extension": ".py",
      "pygments_lexer": "ipython3",
      "codemirror_mode": {
        "name": "ipython",
        "version": 3
      },
      "nbconvert_exporter": "python"
    },
    "orig_nbformat": 4,
    "deepnote_notebook_id": "2c429dac50874f9681e35ed2dc978163",
    "deepnote_execution_queue": [],
    "deepnote_persisted_session": {
      "createdAt": "2022-09-14T18:45:17.979Z"
    },
    "colab": {
      "provenance": [],
      "include_colab_link": true
    }
  }
}